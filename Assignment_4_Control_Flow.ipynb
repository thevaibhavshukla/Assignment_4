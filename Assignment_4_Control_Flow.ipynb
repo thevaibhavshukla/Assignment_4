{
 "cells": [
  {
   "cell_type": "code",
   "execution_count": 1,
   "id": "61ceb555-dd9b-4a57-a9c5-ee347cef3d2f",
   "metadata": {},
   "outputs": [],
   "source": [
    "#Q1"
   ]
  },
  {
   "cell_type": "code",
   "execution_count": 2,
   "id": "51532b22-4e73-49d2-b981-46f8ace7ed7b",
   "metadata": {},
   "outputs": [
    {
     "name": "stdout",
     "output_type": "stream",
     "text": [
      "-1 is a negative number\n"
     ]
    }
   ],
   "source": [
    "num = -1\n",
    "\n",
    "if num < 0:\n",
    "    print(f\"{num} is a negative number\")\n",
    "else:\n",
    "    print(f\"{num} is a positive number\")"
   ]
  },
  {
   "cell_type": "markdown",
   "id": "f7241753-71b0-4795-b630-f04af9c8dcba",
   "metadata": {},
   "source": [
    "## Q2"
   ]
  },
  {
   "cell_type": "code",
   "execution_count": 3,
   "id": "680e4d00-124a-4ee9-9d01-8ab0379c70ca",
   "metadata": {},
   "outputs": [
    {
     "name": "stdout",
     "output_type": "stream",
     "text": [
      "You are eligible to vote\n"
     ]
    }
   ],
   "source": [
    "age = 19\n",
    "\n",
    "if age < 18:\n",
    "    print(\"You are not eligible to vote\")\n",
    "else:\n",
    "    print(\"You are eligible to vote\")"
   ]
  },
  {
   "cell_type": "markdown",
   "id": "74c4b222-3458-4f55-beec-4263fe08a868",
   "metadata": {},
   "source": [
    "### Q3"
   ]
  },
  {
   "cell_type": "code",
   "execution_count": 4,
   "id": "06b7b6f6-4588-4ae4-a97f-1009bc9dbe86",
   "metadata": {},
   "outputs": [
    {
     "name": "stdout",
     "output_type": "stream",
     "text": [
      "variable b or value 20 is greater than variable a or value 10\n"
     ]
    }
   ],
   "source": [
    "a = 10\n",
    "b = 20\n",
    "\n",
    "if a > b:\n",
    "    print(f\"variable a or value {a} is greater than variable b or value {b}\")\n",
    "else:\n",
    "    print(f\"variable b or value {b} is greater than variable a or value {a}\")"
   ]
  },
  {
   "cell_type": "code",
   "execution_count": 5,
   "id": "738ae779-a2a4-499b-9644-449fd0bd3b2c",
   "metadata": {},
   "outputs": [],
   "source": [
    "#Q4"
   ]
  },
  {
   "cell_type": "code",
   "execution_count": 6,
   "id": "6a8b181a-b19d-45b4-b01b-299cef4205fa",
   "metadata": {},
   "outputs": [
    {
     "name": "stdout",
     "output_type": "stream",
     "text": [
      "2000 is a leap year\n"
     ]
    }
   ],
   "source": [
    "# Python program to check if year is a leap year or not\n",
    "\n",
    "year = 2000\n",
    "\n",
    "# To get year (integer input) from the user\n",
    "# year = int(input(\"Enter a year: \"))\n",
    "\n",
    "# divided by 100 means century year (ending with 00)\n",
    "# century year divided by 400 is leap year\n",
    "if (year % 400 == 0) and (year % 100 == 0):\n",
    "    print(\"{0} is a leap year\".format(year))\n",
    "\n",
    "# not divided by 100 means not a century year\n",
    "# year divided by 4 is a leap year\n",
    "elif (year % 4 ==0) and (year % 100 != 0):\n",
    "    print(\"{0} is a leap year\".format(year))\n",
    "\n",
    "# if not divided by both 400 (century year) and 4 (not century year)\n",
    "# year is not leap year\n",
    "else:\n",
    "    print(\"{0} is not a leap year\".format(year))"
   ]
  },
  {
   "cell_type": "code",
   "execution_count": 7,
   "id": "8384d7b3-dcb7-4ef7-81b8-d0bea4fe31e9",
   "metadata": {},
   "outputs": [],
   "source": [
    "#Q5"
   ]
  },
  {
   "cell_type": "code",
   "execution_count": 8,
   "id": "fb8adb7e-a4c6-43e0-9d64-d5a0e0656a47",
   "metadata": {},
   "outputs": [
    {
     "name": "stdout",
     "output_type": "stream",
     "text": [
      "Character is Vowel\n"
     ]
    }
   ],
   "source": [
    "ch = 'E'\n",
    "\n",
    "if ch.lower() in ('a','e','i','o','u'):\n",
    "    print(\"Character is Vowel\")\n",
    "else:\n",
    "    print(\"Character is Consonant\")"
   ]
  },
  {
   "cell_type": "markdown",
   "id": "ca962613-d65d-41dc-9a08-665801843729",
   "metadata": {},
   "source": [
    "###### Q6"
   ]
  },
  {
   "cell_type": "code",
   "execution_count": 9,
   "id": "bf094209-38a1-4665-a085-257d235262b1",
   "metadata": {},
   "outputs": [
    {
     "name": "stdout",
     "output_type": "stream",
     "text": [
      "23 is a odd number\n"
     ]
    }
   ],
   "source": [
    "num = 23\n",
    "\n",
    "if num % 2 == 0:\n",
    "    print(f\"{num} is a even number\")\n",
    "else:\n",
    "    print(f\"{num} is a odd number\")"
   ]
  },
  {
   "cell_type": "code",
   "execution_count": 10,
   "id": "8155dda3-8a08-4222-a415-3d7944e3e77d",
   "metadata": {},
   "outputs": [],
   "source": [
    "#Q7"
   ]
  },
  {
   "cell_type": "code",
   "execution_count": 11,
   "id": "45532e6c-b147-4c0a-a3b1-776585a8d0e8",
   "metadata": {},
   "outputs": [
    {
     "name": "stdout",
     "output_type": "stream",
     "text": [
      "Absolute value is 22\n"
     ]
    }
   ],
   "source": [
    "num = -22\n",
    "\n",
    "if num < 0:\n",
    "    num *= -1\n",
    "\n",
    "print(F\"Absolute value is {num}\")"
   ]
  },
  {
   "cell_type": "code",
   "execution_count": 12,
   "id": "a43c40e0-020c-4ea4-b4aa-dda5cef60990",
   "metadata": {},
   "outputs": [],
   "source": [
    "#Q8"
   ]
  },
  {
   "cell_type": "code",
   "execution_count": 13,
   "id": "c630f0f0-36a6-4b22-9911-717920dcb989",
   "metadata": {},
   "outputs": [
    {
     "name": "stdout",
     "output_type": "stream",
     "text": [
      "c is largest of 3\n"
     ]
    }
   ],
   "source": [
    "a = 10\n",
    "b = 20\n",
    "c = 30\n",
    "\n",
    "if a > b:\n",
    "    if a > c:\n",
    "        print(\"a is largest of 3\")\n",
    "    else:\n",
    "        print(\"c is largest of 3\")\n",
    "else:\n",
    "    if b > c:\n",
    "        print(\"b is largest of 3\")\n",
    "    else:\n",
    "        print(\"c is largest of 3\")"
   ]
  },
  {
   "cell_type": "code",
   "execution_count": 14,
   "id": "5ae27978-1878-4dba-9e0f-ab0c41921ab2",
   "metadata": {},
   "outputs": [],
   "source": [
    "#Q9"
   ]
  },
  {
   "cell_type": "code",
   "execution_count": 15,
   "id": "58382803-6a6a-42ee-9041-85959fb061d6",
   "metadata": {},
   "outputs": [
    {
     "name": "stdout",
     "output_type": "stream",
     "text": [
      "String is Palindrome\n"
     ]
    }
   ],
   "source": [
    "s = \"naman\"\n",
    "\n",
    "rev_s = s[::-1]\n",
    "\n",
    "if s == rev_s:\n",
    "    print(\"String is Palindrome\")\n",
    "else:\n",
    "    print(\"String is not a Palindrome\")"
   ]
  },
  {
   "cell_type": "code",
   "execution_count": 16,
   "id": "14d605f2-3ccb-4ce5-91ee-3062f61378e6",
   "metadata": {},
   "outputs": [],
   "source": [
    "#Q10"
   ]
  },
  {
   "cell_type": "code",
   "execution_count": 17,
   "id": "5eabc4c5-3558-4756-beac-87ff4add11b8",
   "metadata": {},
   "outputs": [
    {
     "name": "stdout",
     "output_type": "stream",
     "text": [
      "Very Good\n"
     ]
    }
   ],
   "source": [
    "marks = 89\n",
    "\n",
    "if marks > 90:\n",
    "    print(\"Excellent\")\n",
    "elif marks > 80:\n",
    "    print(\"Very Good\")\n",
    "elif marks > 70:\n",
    "    print(\"Good\")\n",
    "elif marks > 60:\n",
    "    print(\"Satisfactory\")\n",
    "elif marks > 50:\n",
    "    print(\"Just Pass\")\n",
    "else:\n",
    "    print(\"Fail\")"
   ]
  },
  {
   "cell_type": "code",
   "execution_count": 18,
   "id": "749dc7a6-7d48-4f3a-9f77-a9810d579828",
   "metadata": {},
   "outputs": [],
   "source": [
    "#Q11"
   ]
  },
  {
   "cell_type": "code",
   "execution_count": 19,
   "id": "b1deabaa-b158-4981-8229-552aead8d0ca",
   "metadata": {},
   "outputs": [
    {
     "name": "stdout",
     "output_type": "stream",
     "text": [
      "c is largest of 3\n"
     ]
    }
   ],
   "source": [
    "a = 10\n",
    "b = 20\n",
    "c = 30\n",
    "\n",
    "if a > b:\n",
    "    if a > c:\n",
    "        print(\"a is largest of 3\")\n",
    "    else:\n",
    "        print(\"c is largest of 3\")\n",
    "else:\n",
    "    if b > c:\n",
    "        print(\"b is largest of 3\")\n",
    "    else:\n",
    "        print(\"c is largest of 3\")"
   ]
  },
  {
   "cell_type": "markdown",
   "id": "ef2d1cc3-bd36-429d-953d-706c5e1be151",
   "metadata": {},
   "source": [
    "## Q12"
   ]
  },
  {
   "cell_type": "code",
   "execution_count": 20,
   "id": "6f990d99-f7b8-4ea7-b3c3-ff4cf4ca2104",
   "metadata": {},
   "outputs": [
    {
     "name": "stdout",
     "output_type": "stream",
     "text": [
      "Scalene Triangle\n"
     ]
    }
   ],
   "source": [
    "# Python3 program for the above approach\n",
    "\n",
    "# Function to check if the triangle\n",
    "# is equilateral or isosceles or scalene\n",
    "def checkTriangle(x, y, z):\n",
    "\n",
    "\t# _Check for equilateral triangle\n",
    "\tif x == y == z:\n",
    "\t\tprint(\"Equilateral Triangle\")\n",
    "\n",
    "\t# Check for isosceles triangle\n",
    "\telif x == y or y == z or z == x:\n",
    "\t\tprint(\"Isosceles Triangle\")\n",
    "\n",
    "\t# Otherwise scalene triangle\n",
    "\telse:\n",
    "\t\tprint(\"Scalene Triangle\")\n",
    "\n",
    "\n",
    "# Driver Code\n",
    "\n",
    "# Given sides of triangle\n",
    "x = 8\n",
    "y = 7\n",
    "z = 9\n",
    "\n",
    "# Function Call\n",
    "checkTriangle(x, y, z)\n"
   ]
  },
  {
   "cell_type": "code",
   "execution_count": 21,
   "id": "556345d3-ab8b-4802-a8e7-65f2f931cb12",
   "metadata": {},
   "outputs": [],
   "source": [
    "#Q13"
   ]
  },
  {
   "cell_type": "code",
   "execution_count": 22,
   "id": "a7d3617b-abf4-4929-bae9-66a8bead655e",
   "metadata": {},
   "outputs": [
    {
     "name": "stdout",
     "output_type": "stream",
     "text": [
      "2000 is a leap year\n"
     ]
    }
   ],
   "source": [
    "# Python program to check if year is a leap year or not\n",
    "\n",
    "year = 2000\n",
    "\n",
    "# To get year (integer input) from the user\n",
    "# year = int(input(\"Enter a year: \"))\n",
    "\n",
    "# divided by 100 means century year (ending with 00)\n",
    "# century year divided by 400 is leap year\n",
    "if (year % 100 == 0):\n",
    "    if (year % 400 == 0):\n",
    "        print(\"{0} is a leap year\".format(year))\n",
    "    else:\n",
    "        print(\"{0} is a Centuary year\".format(year))\n",
    "\n",
    "# not divided by 100 means not a century year\n",
    "# year divided by 4 is a leap year\n",
    "elif (year % 4 ==0) and (year % 100 != 0):\n",
    "    print(\"{0} is a leap year\".format(year))\n",
    "\n",
    "# if not divided by both 400 (century year) and 4 (not century year)\n",
    "# year is not leap year\n",
    "else:\n",
    "    print(\"{0} is not a leap year\".format(year))"
   ]
  },
  {
   "cell_type": "code",
   "execution_count": 23,
   "id": "335f3233-7e0f-4ee7-88d0-e47d199f9fe4",
   "metadata": {},
   "outputs": [],
   "source": [
    "#Q14"
   ]
  },
  {
   "cell_type": "code",
   "execution_count": 24,
   "id": "ca3f1218-5b15-4e1f-a4eb-00546791cc98",
   "metadata": {},
   "outputs": [
    {
     "name": "stdout",
     "output_type": "stream",
     "text": [
      "Number is Zero\n"
     ]
    }
   ],
   "source": [
    "num = 0\n",
    "\n",
    "if num == 0:\n",
    "    print(\"Number is Zero\")\n",
    "elif num < 0:\n",
    "    print(\"Number is Negative\")\n",
    "else:\n",
    "    print(\"Number is Positive\")"
   ]
  },
  {
   "cell_type": "code",
   "execution_count": 25,
   "id": "0a36f429-97ae-4673-8435-7cff43c2374d",
   "metadata": {},
   "outputs": [],
   "source": [
    "#Q15"
   ]
  },
  {
   "cell_type": "code",
   "execution_count": 26,
   "id": "e1e5c17c-3b9f-4f72-bef8-a3acef86a4a0",
   "metadata": {},
   "outputs": [
    {
     "name": "stdout",
     "output_type": "stream",
     "text": [
      "You are a Teenager\n"
     ]
    }
   ],
   "source": [
    "age = 14\n",
    "\n",
    "if age >=14 and age <= 19:\n",
    "    print(\"You are a Teenager\")\n",
    "else:\n",
    "    print(\"You are not a Teenager\")"
   ]
  },
  {
   "cell_type": "code",
   "execution_count": 27,
   "id": "c1706e6b-ad3b-4b9f-997b-7e110bc0966c",
   "metadata": {},
   "outputs": [],
   "source": [
    "#Q16"
   ]
  },
  {
   "cell_type": "code",
   "execution_count": 28,
   "id": "ee3eb863-addd-4aa0-9001-8257879acd9a",
   "metadata": {},
   "outputs": [
    {
     "name": "stdout",
     "output_type": "stream",
     "text": [
      "Acute Angle\n"
     ]
    }
   ],
   "source": [
    "angle = 61\n",
    "\n",
    "if angle < 90:\n",
    "    print(\"Acute Angle\")\n",
    "elif angle == 90:\n",
    "    print(\"Right Angle\")\n",
    "else:\n",
    "    print(\"Obtuse Angle\")"
   ]
  },
  {
   "cell_type": "code",
   "execution_count": 29,
   "id": "af90be37-6a09-47a6-b11e-69c9db842931",
   "metadata": {},
   "outputs": [],
   "source": [
    "#Q17"
   ]
  },
  {
   "cell_type": "code",
   "execution_count": 30,
   "id": "d330175f-734c-4885-b7a8-8fbaa0b9d638",
   "metadata": {},
   "outputs": [
    {
     "name": "stdout",
     "output_type": "stream",
     "text": [
      "The solution are (-3+0j) and (-2+0j)\n"
     ]
    }
   ],
   "source": [
    "# Solve the quadratic equation ax**2 + bx + c = 0\n",
    "\n",
    "# import complex math module\n",
    "import cmath\n",
    "\n",
    "a = 1\n",
    "b = 5\n",
    "c = 6\n",
    "\n",
    "# calculate the discriminant\n",
    "d = (b**2) - (4*a*c)\n",
    "\n",
    "# find two solutions\n",
    "sol1 = (-b-cmath.sqrt(d))/(2*a)\n",
    "sol2 = (-b+cmath.sqrt(d))/(2*a)\n",
    "\n",
    "print('The solution are {0} and {1}'.format(sol1,sol2))\n"
   ]
  },
  {
   "cell_type": "code",
   "execution_count": 31,
   "id": "38f9709b-8ca9-4280-a8ca-bdaecf2a7667",
   "metadata": {},
   "outputs": [],
   "source": [
    "#Q18"
   ]
  },
  {
   "cell_type": "code",
   "execution_count": 32,
   "id": "e8c2fcc3-b4e8-4cbf-984f-380ccf2aa632",
   "metadata": {},
   "outputs": [
    {
     "name": "stdin",
     "output_type": "stream",
     "text": [
      "Enter Number :  3\n"
     ]
    },
    {
     "name": "stdout",
     "output_type": "stream",
     "text": [
      "Wednesday\n"
     ]
    }
   ],
   "source": [
    "day = int(input(\"Enter Number : \"))\n",
    "\n",
    "if day == 1:\n",
    "    print(\"Monday\")\n",
    "elif day == 2:\n",
    "    print(\"Tuesday\")\n",
    "elif day == 3:\n",
    "    print(\"Wednesday\")\n",
    "elif day == 4:\n",
    "    print(\"Thursday\")\n",
    "elif day == 5:\n",
    "    print(\"Friday\")\n",
    "elif day == 6:\n",
    "    print(\"Saturday\")\n",
    "elif day == 7:\n",
    "    print(\"Sunday\")\n",
    "else:\n",
    "    print(\"Wrong Input\")"
   ]
  },
  {
   "cell_type": "code",
   "execution_count": 33,
   "id": "05b7c878-4fe6-47fb-b69b-cdd083d3a283",
   "metadata": {},
   "outputs": [],
   "source": [
    "#Q19"
   ]
  },
  {
   "cell_type": "code",
   "execution_count": 34,
   "id": "25822863-b050-450f-965a-9907f2f27c2b",
   "metadata": {},
   "outputs": [
    {
     "name": "stdout",
     "output_type": "stream",
     "text": [
      "2000 is a leap year\n"
     ]
    }
   ],
   "source": [
    "# Python program to check if year is a leap year or not\n",
    "\n",
    "year = 2000\n",
    "\n",
    "# To get year (integer input) from the user\n",
    "# year = int(input(\"Enter a year: \"))\n",
    "\n",
    "# divided by 100 means century year (ending with 00)\n",
    "# century year divided by 400 is leap year\n",
    "if (year % 100 == 0):\n",
    "    if (year % 400 == 0):\n",
    "        print(\"{0} is a leap year\".format(year))\n",
    "    else:\n",
    "        print(\"{0} is a Centuary year\".format(year))\n",
    "\n",
    "# not divided by 100 means not a century year\n",
    "# year divided by 4 is a leap year\n",
    "elif (year % 4 ==0) and (year % 100 != 0):\n",
    "    print(\"{0} is a leap year\".format(year))\n",
    "\n",
    "# if not divided by both 400 (century year) and 4 (not century year)\n",
    "# year is not leap year\n",
    "else:\n",
    "    print(\"{0} is not a leap year\".format(year))"
   ]
  },
  {
   "cell_type": "code",
   "execution_count": 35,
   "id": "196d7d12-2474-4155-8430-3a51297e9c6d",
   "metadata": {},
   "outputs": [],
   "source": [
    "#Q20"
   ]
  },
  {
   "cell_type": "code",
   "execution_count": 36,
   "id": "ffe323a5-f1d9-4a02-b9a5-a7b27ab64b50",
   "metadata": {},
   "outputs": [
    {
     "name": "stdout",
     "output_type": "stream",
     "text": [
      "29 is a prime number\n"
     ]
    }
   ],
   "source": [
    "# Program to check if a number is prime or not\n",
    "\n",
    "num = 29\n",
    "\n",
    "# To take input from the user\n",
    "#num = int(input(\"Enter a number: \"))\n",
    "\n",
    "# define a flag variable\n",
    "flag = False\n",
    "\n",
    "if num == 1:\n",
    "    print(num, \"is not a prime number\")\n",
    "elif num > 1:\n",
    "    # check for factors\n",
    "    for i in range(2, num):\n",
    "        if (num % i) == 0:\n",
    "            # if factor is found, set flag to True\n",
    "            flag = True\n",
    "            # break out of loop\n",
    "            break\n",
    "\n",
    "    # check if flag is True\n",
    "    if flag:\n",
    "        print(num, \"is not a prime number\")\n",
    "    else:\n",
    "        print(num, \"is a prime number\")"
   ]
  },
  {
   "cell_type": "code",
   "execution_count": 1,
   "id": "056f5b72-bbf9-4cab-ba50-892f0841142c",
   "metadata": {},
   "outputs": [],
   "source": [
    "#Q21"
   ]
  },
  {
   "cell_type": "code",
   "execution_count": 2,
   "id": "f8cbddec-cec1-4745-9c0a-17a885a6f04a",
   "metadata": {},
   "outputs": [
    {
     "name": "stdout",
     "output_type": "stream",
     "text": [
      "Very Good\n"
     ]
    }
   ],
   "source": [
    "marks = 89\n",
    "\n",
    "if marks > 90:\n",
    "    print(\"Excellent\")\n",
    "elif marks > 80:\n",
    "    print(\"Very Good\")\n",
    "elif marks > 70:\n",
    "    print(\"Good\")\n",
    "elif marks > 60:\n",
    "    print(\"Satisfactory\")\n",
    "elif marks > 50:\n",
    "    print(\"Just Pass\")\n",
    "else:\n",
    "    print(\"Fail\")"
   ]
  },
  {
   "cell_type": "code",
   "execution_count": 3,
   "id": "07f1750b-9e92-4e65-a30e-79ed2d1bc0fe",
   "metadata": {},
   "outputs": [],
   "source": [
    "#Q22"
   ]
  },
  {
   "cell_type": "code",
   "execution_count": null,
   "id": "5b02baec-748d-4735-8955-d03f1143501d",
   "metadata": {},
   "outputs": [],
   "source": [
    "angle = 61\n",
    "\n",
    "if angle < 90:\n",
    "    print(\"Acute Angle\")\n",
    "elif angle == 90:\n",
    "    print(\"Right Angle\")\n",
    "else:\n",
    "    print(\"Obtuse Angle\")"
   ]
  },
  {
   "cell_type": "code",
   "execution_count": 4,
   "id": "f5f29bea-7586-4511-abef-99fb8acf9d4d",
   "metadata": {},
   "outputs": [],
   "source": [
    "#Q23"
   ]
  },
  {
   "cell_type": "code",
   "execution_count": null,
   "id": "1554c70f-8ca5-4608-bca0-6df1375d4005",
   "metadata": {},
   "outputs": [],
   "source": [
    "#Python program to illustrate\n",
    "\n",
    "# how to calculate BMI\n",
    "\n",
    "def BMI(height, weight):\n",
    "\n",
    "            bmi = weight/(height**2)\n",
    "\n",
    "            return bmi\n",
    "\n",
    "\n",
    "\n",
    "# Driver code\n",
    "\n",
    "height = 1.79832\n",
    "\n",
    "weight = 70\n",
    "\n",
    "\n",
    "\n",
    "# calling the BMI function\n",
    "\n",
    "bmi = BMI(height, weight)\n",
    "\n",
    "print(\"The BMI is\", format(bmi), \"so \", end='')\n",
    "\n",
    "\n",
    "\n",
    "# Conditions to find out BMI category\n",
    "\n",
    "if (bmi < 18.5):\n",
    "\n",
    "            print(\"underweight\")\n",
    "\n",
    "\n",
    "\n",
    "elif ( bmi >= 18.5 and bmi < 24.9):\n",
    "\n",
    "            print(\"Healthy\")\n",
    "\n",
    "\n",
    "\n",
    "elif ( bmi >= 24.9 and bmi < 30):\n",
    "\n",
    "            print(\"overweight\")\n",
    "\n",
    "\n",
    "\n",
    "elif ( bmi >=30):\n",
    "\n",
    "            print(\"Suffering from Obesity\")"
   ]
  },
  {
   "cell_type": "code",
   "execution_count": 5,
   "id": "48a93cee-cdc6-471e-a98c-1aa2037a65bf",
   "metadata": {},
   "outputs": [],
   "source": [
    "#Q24"
   ]
  },
  {
   "cell_type": "code",
   "execution_count": 6,
   "id": "2e2ddc97-6da3-40bf-98cb-f16cf2cd7869",
   "metadata": {},
   "outputs": [
    {
     "name": "stdout",
     "output_type": "stream",
     "text": [
      "-1 is a negative number\n"
     ]
    }
   ],
   "source": [
    "num = -1\n",
    "\n",
    "if num < 0:\n",
    "    print(f\"{num} is a negative number\")\n",
    "elif num == 0:\n",
    "    print(\"Number is Zero\")\n",
    "else:\n",
    "    print(f\"{num} is a positive number\")"
   ]
  },
  {
   "cell_type": "code",
   "execution_count": 7,
   "id": "f2eddeb4-85ee-4db9-8ab2-bff8b60f9c7c",
   "metadata": {},
   "outputs": [],
   "source": [
    "#Q25"
   ]
  },
  {
   "cell_type": "code",
   "execution_count": null,
   "id": "ee5e086e-cb1d-41ba-af43-933e3f7f3d18",
   "metadata": {},
   "outputs": [],
   "source": [
    "ch = 'Z'\n",
    "\n",
    "ascii_value = ord(ch)\n",
    "\n",
    "\n",
    "\n",
    "if ascii_value >=65 and ascii_value <=91:\n",
    "\n",
    "    print(\"Upper Case Character\")\n",
    "\n",
    "elif ascii_value >= 97 and ascii_value <=123:\n",
    "\n",
    "    print(\"Lower Case Character\")\n",
    "\n",
    "else:\n",
    "\n",
    "    print(\"Special Character\")"
   ]
  },
  {
   "cell_type": "code",
   "execution_count": 8,
   "id": "ca988f1e-a34a-421c-81f4-394bf604b7cb",
   "metadata": {},
   "outputs": [],
   "source": [
    "#Q26"
   ]
  },
  {
   "cell_type": "code",
   "execution_count": null,
   "id": "68a8725f-79a6-4c66-8cd5-a0e4b2a0acf8",
   "metadata": {},
   "outputs": [],
   "source": [
    "\n",
    "\n",
    "# input sale amount\n",
    "\n",
    "amt = int(input(\"Enter Sale Amount: \"))\n",
    "\n",
    "\n",
    "\n",
    "# checking conditions and calculating discount\n",
    "\n",
    "if(amt>0):\n",
    "\n",
    "    if amt<=5000:\n",
    "\n",
    "       disc = amt*0.05\n",
    "\n",
    "    elif amt<=15000:\n",
    "\n",
    "        disc=amt*0.12\n",
    "\n",
    "    elif amt<=25000:\n",
    "\n",
    "        disc=0.2 * amt\n",
    "\n",
    "    else:\n",
    "\n",
    "         disc=0.3 * amt\n",
    "\n",
    "\n",
    "\n",
    "    print(\"Discount : \",disc)\n",
    "\n",
    "    print(\"Net Pay  : \",amt-disc)\n",
    "\n",
    "else:\n",
    "\n",
    "    print(\"Invalid Amount\")"
   ]
  },
  {
   "cell_type": "code",
   "execution_count": 9,
   "id": "8607da0d-e2fe-4aa8-9a15-f1f554527738",
   "metadata": {},
   "outputs": [],
   "source": [
    "#Q27"
   ]
  },
  {
   "cell_type": "code",
   "execution_count": null,
   "id": "06d5d344-c37b-45ec-9059-f48ff7416297",
   "metadata": {},
   "outputs": [],
   "source": [
    "\n",
    "\n",
    "# Python Program to Calculate Electricity Bill\n",
    "\n",
    "\n",
    "\n",
    "units = int(input(\" Please enter Number of Units you Consumed : \"))\n",
    "\n",
    "\n",
    "\n",
    "if (units < 50):\n",
    "\n",
    "    amount = units * 2.60\n",
    "\n",
    "    surcharge = 25\n",
    "\n",
    "elif (units <= 100):\n",
    "\n",
    "    amount = 130 + ((units - 50) * 3.25)\n",
    "\n",
    "    surcharge = 35\n",
    "\n",
    "elif (units <= 200):\n",
    "\n",
    "    amount = 130 + 162.50 + ((units - 100) * 5.26)\n",
    "\n",
    "    surcharge = 45\n",
    "\n",
    "else:\n",
    "\n",
    "    amount = 130 + 162.50 + 526 + ((units - 200) * 8.45)\n",
    "\n",
    "    surcharge = 75\n",
    "\n",
    "\n",
    "\n",
    "total = amount + surcharge\n",
    "\n",
    "print(\"\\nElectricity Bill = %.2f\" % total)"
   ]
  },
  {
   "cell_type": "code",
   "execution_count": 10,
   "id": "9fc0128e-0645-442b-823b-127746d7a0eb",
   "metadata": {},
   "outputs": [],
   "source": [
    "#Q28"
   ]
  },
  {
   "cell_type": "code",
   "execution_count": null,
   "id": "ed2aa7af-9e04-4e41-b3d6-7c491d3eef84",
   "metadata": {},
   "outputs": [],
   "source": []
  },
  {
   "cell_type": "code",
   "execution_count": 11,
   "id": "faa36dda-320a-4419-bb90-73bcc9199cd1",
   "metadata": {},
   "outputs": [],
   "source": [
    "#Q29"
   ]
  },
  {
   "cell_type": "code",
   "execution_count": null,
   "id": "3006064f-d39f-4292-b439-c31b020fcb37",
   "metadata": {},
   "outputs": [],
   "source": [
    "\n",
    "\n",
    "month = \"October\"\n",
    "\n",
    "\n",
    "\n",
    "if month.lower() in (\"october\", \"november\", \"december\", \"january\"):\n",
    "\n",
    "    print(\"Winter Season\")\n",
    "\n",
    "elif month.lower() in (\"february\",\"march\"):\n",
    "\n",
    "    print(\"Spring Season\")\n",
    "\n",
    "elif month.lower() in (\"april\", \"may\", \"june\"):\n",
    "\n",
    "    print(\"Summer Season\")\n",
    "\n",
    "else:\n",
    "\n",
    "    print(\"Rainy Season\")"
   ]
  },
  {
   "cell_type": "code",
   "execution_count": 12,
   "id": "747fc380-099e-40b2-939c-594b2d08087e",
   "metadata": {},
   "outputs": [],
   "source": [
    "#Q30"
   ]
  },
  {
   "cell_type": "code",
   "execution_count": null,
   "id": "41b1df89-59c4-4693-964e-9b7a97ded2bd",
   "metadata": {},
   "outputs": [],
   "source": [
    "# Python program to check if year is a leap year or not\n",
    "\n",
    "year = 2000\n",
    "month = \"March\"\n",
    "\n",
    "# To get year (integer input) from the user\n",
    "# year = int(input(\"Enter a year: \"))\n",
    "\n",
    "# divided by 100 means century year (ending with 00)\n",
    "# century year divided by 400 is leap year\n",
    "if (year % 100 == 0):\n",
    "    if (year % 400 == 0):\n",
    "        print(\"{0} is a leap year\".format(year))\n",
    "    else:\n",
    "        print(\"{0} is a Centuary year\".format(year))\n",
    "\n",
    "# not divided by 100 means not a century year\n",
    "# year divided by 4 is a leap year\n",
    "elif (year % 4 ==0) and (year % 100 != 0):\n",
    "    print(\"{0} is a leap year\".format(year))\n",
    "\n",
    "# if not divided by both 400 (century year) and 4 (not century year)\n",
    "# year is not leap year\n",
    "else:\n",
    "    print(\"{0} is not a leap year\".format(year))\n",
    "\n",
    "\n",
    "\n",
    "if month.lower() in (\"february\"):\n",
    "    print(\" Days = 28/29\")\n",
    "elif month.lower() in (\"april\", \"june\", \"september\", \"november\"):\n",
    "    print(\"Days = 30\")\n",
    "else:\n",
    "    print(\"Days = 31\")"
   ]
  },
  {
   "cell_type": "code",
   "execution_count": null,
   "id": "ff6133d3-89b9-4312-80f6-f82c3a63b1d1",
   "metadata": {},
   "outputs": [],
   "source": []
  },
  {
   "cell_type": "code",
   "execution_count": null,
   "id": "5b0bc78a-78d4-4359-b23a-c4637f4709e3",
   "metadata": {},
   "outputs": [],
   "source": []
  },
  {
   "cell_type": "code",
   "execution_count": 13,
   "id": "65bf6949-5f44-4f09-9dc4-caf75a5811ab",
   "metadata": {},
   "outputs": [],
   "source": [
    "#Q1"
   ]
  },
  {
   "cell_type": "code",
   "execution_count": null,
   "id": "6a332d48-6682-48aa-af85-43fd6e0f04d6",
   "metadata": {},
   "outputs": [],
   "source": [
    "num = -1\n",
    "\n",
    "if num < 0:\n",
    "    print(f\"{num} is a negative number\")\n",
    "elif num == 0:\n",
    "    print(\"Number is Zero\")\n",
    "else:\n",
    "    print(f\"{num} is a positive number\")"
   ]
  },
  {
   "cell_type": "code",
   "execution_count": 14,
   "id": "31303531-799e-4ab6-8187-6ff37b2f6172",
   "metadata": {},
   "outputs": [],
   "source": [
    "#Q2"
   ]
  },
  {
   "cell_type": "code",
   "execution_count": null,
   "id": "77bfb254-4186-4d32-bdce-6c2ec66b72d1",
   "metadata": {},
   "outputs": [],
   "source": [
    "age = 19\n",
    "\n",
    "if age < 18:\n",
    "    print(\"You are not eligible to vote\")\n",
    "else:\n",
    "    print(\"You are eligible to vote\")"
   ]
  },
  {
   "cell_type": "code",
   "execution_count": 15,
   "id": "ae3a2264-e8a3-4bbf-96d8-fdb439aa056a",
   "metadata": {},
   "outputs": [],
   "source": [
    "#Q3"
   ]
  },
  {
   "cell_type": "code",
   "execution_count": null,
   "id": "24b83ad7-d0ed-4b3d-8afd-129b7c71dd15",
   "metadata": {},
   "outputs": [],
   "source": [
    "a = 10\n",
    "b = 20\n",
    "\n",
    "if a > b:\n",
    "    print(f\"variable a or value {a} is greater than variable b or value {b}\")\n",
    "else:\n",
    "    print(f\"variable b or value {b} is greater than variable a or value {a}\")"
   ]
  },
  {
   "cell_type": "code",
   "execution_count": 16,
   "id": "c64f2c45-4c1f-47d3-99ee-7a6beee5a8d1",
   "metadata": {},
   "outputs": [],
   "source": [
    "#Q4"
   ]
  },
  {
   "cell_type": "code",
   "execution_count": null,
   "id": "6812fe96-f7aa-46a9-999a-5ea6d3f13c2d",
   "metadata": {},
   "outputs": [],
   "source": [
    "marks = 89\n",
    "\n",
    "if marks > 90:\n",
    "    print(\"A - Excellent\")\n",
    "elif marks > 80:\n",
    "    print(\"B - Very Good\")\n",
    "elif marks > 70:\n",
    "    print(\"C - Good\")\n",
    "elif marks > 60:\n",
    "    print(\"D - Satisfactory\")\n",
    "elif marks > 50:\n",
    "    print(\"E - Just Pass\")\n",
    "else:\n",
    "    print(\"F - Fail\")"
   ]
  },
  {
   "cell_type": "code",
   "execution_count": 17,
   "id": "dfbcb79d-94ba-4b8d-ac44-dbc1c780b689",
   "metadata": {},
   "outputs": [],
   "source": [
    "#Q5"
   ]
  },
  {
   "cell_type": "code",
   "execution_count": 18,
   "id": "b97557a4-9a9d-4759-b4a5-8e317ca75c40",
   "metadata": {},
   "outputs": [
    {
     "name": "stdout",
     "output_type": "stream",
     "text": [
      "2000 is a leap year\n"
     ]
    }
   ],
   "source": [
    "# Python program to check if year is a leap year or not\n",
    "\n",
    "year = 2000\n",
    "month = \"March\"\n",
    "\n",
    "# To get year (integer input) from the user\n",
    "# year = int(input(\"Enter a year: \"))\n",
    "\n",
    "# divided by 100 means century year (ending with 00)\n",
    "# century year divided by 400 is leap year\n",
    "if (year % 100 == 0) and (year % 400 == 0):\n",
    "    print(\"{0} is a leap year\".format(year))\n",
    "\n",
    "# not divided by 100 means not a century year\n",
    "# year divided by 4 is a leap year\n",
    "elif (year % 4 ==0) and (year % 100 != 0):\n",
    "    print(\"{0} is a leap year\".format(year))\n",
    "\n",
    "# if not divided by both 400 (century year) and 4 (not century year)\n",
    "# year is not leap year\n",
    "else:\n",
    "    print(\"{0} is not a leap year\".format(year))"
   ]
  },
  {
   "cell_type": "code",
   "execution_count": 19,
   "id": "6a874e44-6a8c-446c-9507-a606b107c0d0",
   "metadata": {},
   "outputs": [],
   "source": [
    "#Q6"
   ]
  },
  {
   "cell_type": "code",
   "execution_count": null,
   "id": "40b96e68-951a-4e14-87e4-9fe115079eeb",
   "metadata": {},
   "outputs": [],
   "source": [
    "\n",
    "\n",
    "# Validity of Triangle given sides\n",
    "\n",
    "\n",
    "\n",
    "# Function definition to check validity\n",
    "\n",
    "def is_valid_triangle(a,b,c):\n",
    "\n",
    "    if a+b>=c and b+c>=a and c+a>=b:\n",
    "\n",
    "        return True\n",
    "\n",
    "    else:\n",
    "\n",
    "        return False\n",
    "\n",
    "\n",
    "\n",
    "# Function definition for type\n",
    "\n",
    "def type_of_triangle(a,b,c):\n",
    "\n",
    "    if a==b and b==c:\n",
    "\n",
    "        print('Triangle is Equilateral.')\n",
    "\n",
    "    elif a==b or b==c or a==c:\n",
    "\n",
    "        print('Triangle is Isosceles.')\n",
    "\n",
    "    else:\n",
    "\n",
    "        print('Triangle is Scalane')\n",
    "\n",
    "\n",
    "\n",
    "# Reading Three Sides\n",
    "\n",
    "side_a = float(input('Enter length of side a: '))\n",
    "\n",
    "side_b = float(input('Enter length of side b: '))\n",
    "\n",
    "side_c = float(input('Enter length of side c: '))\n",
    "\n",
    "\n",
    "\n",
    "# Function call & making decision\n",
    "\n",
    "if is_valid_triangle(side_a, side_b, side_c):\n",
    "\n",
    "    type_of_triangle(side_a, side_b, side_c)\n",
    "\n",
    "else:\n",
    "\n",
    "    print('Tringle is not possible from given sides.')\n",
    "\n",
    " "
   ]
  },
  {
   "cell_type": "code",
   "execution_count": 20,
   "id": "42637984-acbb-4390-82d2-f144874cc9f6",
   "metadata": {},
   "outputs": [],
   "source": [
    "#Q7"
   ]
  },
  {
   "cell_type": "code",
   "execution_count": null,
   "id": "42c7a7e5-676d-44e2-a101-c1409c2fe62f",
   "metadata": {},
   "outputs": [],
   "source": [
    "a = 10\n",
    "b = 20\n",
    "c = 30\n",
    "\n",
    "if a > b:\n",
    "    if a > c:\n",
    "        print(\"a is largest of 3\")\n",
    "    else:\n",
    "        print(\"c is largest of 3\")\n",
    "else:\n",
    "    if b > c:\n",
    "        print(\"b is largest of 3\")\n",
    "    else:\n",
    "        print(\"c is largest of 3\")"
   ]
  },
  {
   "cell_type": "code",
   "execution_count": 21,
   "id": "5203362b-d61c-4374-b675-6d90e5263430",
   "metadata": {},
   "outputs": [],
   "source": [
    "#Q8"
   ]
  },
  {
   "cell_type": "code",
   "execution_count": null,
   "id": "c2c22421-455c-40ce-a357-04a2a7ff6929",
   "metadata": {},
   "outputs": [],
   "source": [
    "ch = 'E'\n",
    "\n",
    "if ch.lower() in ('a','e','i','o','u'):\n",
    "    print(\"Character is Vowel\")\n",
    "else:\n",
    "    print(\"Character is Consonant\")"
   ]
  },
  {
   "cell_type": "code",
   "execution_count": null,
   "id": "e804da10-3cf8-47a5-92bd-0124b5879b73",
   "metadata": {},
   "outputs": [],
   "source": [
    "#Q9"
   ]
  },
  {
   "cell_type": "code",
   "execution_count": null,
   "id": "c28de9a8-b98f-4072-b671-72e30fbe178d",
   "metadata": {},
   "outputs": [],
   "source": [
    "\n",
    "\n",
    "# input sale amount\n",
    "\n",
    "amt = int(input(\"Enter Sale Amount: \"))\n",
    "\n",
    "\n",
    "\n",
    "# checking conditions and calculating discount\n",
    "\n",
    "if(amt>0):\n",
    "\n",
    "    if amt<=5000:\n",
    "\n",
    "       disc = amt*0.05\n",
    "\n",
    "    elif amt<=15000:\n",
    "\n",
    "        disc=amt*0.12\n",
    "\n",
    "    elif amt<=25000:\n",
    "\n",
    "        disc=0.2 * amt\n",
    "\n",
    "    else:\n",
    "\n",
    "         disc=0.3 * amt\n",
    "\n",
    "\n",
    "\n",
    "    print(\"Discount : \",disc)\n",
    "\n",
    "    print(\"Net Pay  : \",amt-disc)\n",
    "\n",
    "else:\n",
    "\n",
    "    print(\"Invalid Amount\")"
   ]
  },
  {
   "cell_type": "code",
   "execution_count": 22,
   "id": "9c6d4212-677a-4da5-b0e2-787c0372bed9",
   "metadata": {},
   "outputs": [],
   "source": [
    "#Q10"
   ]
  },
  {
   "cell_type": "code",
   "execution_count": 23,
   "id": "9013e657-9fb1-46b1-8fdf-ac0637f429b3",
   "metadata": {},
   "outputs": [
    {
     "name": "stdout",
     "output_type": "stream",
     "text": [
      "Even Number\n"
     ]
    }
   ],
   "source": [
    "num = 16\n",
    "\n",
    "if num % 2 == 0:\n",
    "    print(\"Even Number\")\n",
    "else:\n",
    "    print(\"Odd Number\")"
   ]
  },
  {
   "cell_type": "code",
   "execution_count": null,
   "id": "58905076-ad11-4b80-8021-91ace7233611",
   "metadata": {},
   "outputs": [],
   "source": [
    "#Q11"
   ]
  },
  {
   "cell_type": "code",
   "execution_count": null,
   "id": "dce0a55e-cff3-4cee-841d-68c91aeaca25",
   "metadata": {},
   "outputs": [],
   "source": [
    "# Solve the quadratic equation ax**2 + bx + c = 0\n",
    "\n",
    "# import complex math module\n",
    "import cmath\n",
    "\n",
    "a = 1\n",
    "b = 5\n",
    "c = 6\n",
    "\n",
    "# calculate the discriminant\n",
    "d = (b**2) - (4*a*c)\n",
    "\n",
    "# find two solutions\n",
    "sol1 = (-b-cmath.sqrt(d))/(2*a)\n",
    "sol2 = (-b+cmath.sqrt(d))/(2*a)\n",
    "\n",
    "print('The solution are {0} and {1}'.format(sol1,sol2))\n"
   ]
  },
  {
   "cell_type": "code",
   "execution_count": null,
   "id": "d1dc3626-8724-4cab-9ebc-e0be14b8a0eb",
   "metadata": {},
   "outputs": [],
   "source": [
    "#Q12"
   ]
  },
  {
   "cell_type": "code",
   "execution_count": null,
   "id": "5f41f43f-57b9-4a9d-97e6-73951547427d",
   "metadata": {},
   "outputs": [],
   "source": [
    "day = int(input(\"Enter Number : \"))\n",
    "\n",
    "if day == 1:\n",
    "    print(\"Monday\")\n",
    "elif day == 2:\n",
    "    print(\"Tuesday\")\n",
    "elif day == 3:\n",
    "    print(\"Wednesday\")\n",
    "elif day == 4:\n",
    "    print(\"Thursday\")\n",
    "elif day == 5:\n",
    "    print(\"Friday\")\n",
    "elif day == 6:\n",
    "    print(\"Saturday\")\n",
    "elif day == 7:\n",
    "    print(\"Sunday\")\n",
    "else:\n",
    "    print(\"Wrong Input\")"
   ]
  },
  {
   "cell_type": "code",
   "execution_count": null,
   "id": "fd3b221b-61d4-46dd-9aaf-46f28e45ff2d",
   "metadata": {},
   "outputs": [],
   "source": [
    "#Q13"
   ]
  },
  {
   "cell_type": "code",
   "execution_count": null,
   "id": "10a4cf70-dfa2-4fc1-9a9c-9c3e5df7b941",
   "metadata": {},
   "outputs": [],
   "source": [
    "# Factorial of a number using recursion\n",
    "\n",
    "def recur_factorial(n):\n",
    "   if n == 1:\n",
    "       return n\n",
    "   else:\n",
    "       return n*recur_factorial(n-1)\n",
    "\n",
    "num = 7\n",
    "\n",
    "# check if the number is negative\n",
    "if num < 0:\n",
    "   print(\"Sorry, factorial does not exist for negative numbers\")\n",
    "elif num == 0:\n",
    "   print(\"The factorial of 0 is 1\")\n",
    "else:\n",
    "   print(\"The factorial of\", num, \"is\", recur_factorial(num))\n"
   ]
  },
  {
   "cell_type": "code",
   "execution_count": 25,
   "id": "4076226e-10e3-4baa-b7a3-56891fa4d3ed",
   "metadata": {},
   "outputs": [],
   "source": [
    "#Q14"
   ]
  },
  {
   "cell_type": "code",
   "execution_count": null,
   "id": "f0e89d15-f5a9-4353-9c6f-77594cb17e3a",
   "metadata": {},
   "outputs": [],
   "source": [
    "a = 10\n",
    "b = 20\n",
    "c = 30\n",
    "\n",
    "if a > b:\n",
    "    if a > c:\n",
    "        print(\"a is largest of 3\")\n",
    "    else:\n",
    "        print(\"c is largest of 3\")\n",
    "else:\n",
    "    if b > c:\n",
    "        print(\"b is largest of 3\")\n",
    "    else:\n",
    "        print(\"c is largest of 3\")"
   ]
  },
  {
   "cell_type": "code",
   "execution_count": 24,
   "id": "db984c17-e8a9-4d42-b404-fe317b7ad4ad",
   "metadata": {},
   "outputs": [],
   "source": [
    "#Q15"
   ]
  },
  {
   "cell_type": "code",
   "execution_count": 27,
   "id": "33841d04-9142-4821-b02d-b9f6a32c652c",
   "metadata": {},
   "outputs": [
    {
     "name": "stdout",
     "output_type": "stream",
     "text": [
      "\t\t0. Logout and Exit\n",
      "\t\t1. View Account Balance\n",
      "\t\t2. Withdraw Cash\n",
      "\t\t3. Deposit Cash\n",
      "\t\t4. Change PIN\n",
      "\t\t5. Return Card\n"
     ]
    },
    {
     "name": "stdin",
     "output_type": "stream",
     "text": [
      "Enter number to proceed >  0\n"
     ]
    },
    {
     "name": "stdout",
     "output_type": "stream",
     "text": [
      "\n",
      "\n",
      "\n",
      "Exiting...\n",
      "You have been logged out. Thank you!\n",
      "\n",
      "\n"
     ]
    }
   ],
   "source": [
    "while (True):\n",
    "    print(\"\\t\\t0. Logout and Exit\")\n",
    "    print(\"\\t\\t1. View Account Balance\")\n",
    "    print(\"\\t\\t2. Withdraw Cash\")\n",
    "    print(\"\\t\\t3. Deposit Cash\")\n",
    "    print(\"\\t\\t4. Change PIN\")\n",
    "    print(\"\\t\\t5. Return Card\")\n",
    "    choice = int(input(\"Enter number to proceed > \"))\n",
    "    print(\"\\n\\n\")\n",
    "\n",
    "\n",
    "    if choice == 0:\n",
    "        print(\"Exiting...\")\n",
    "        # t.sleep(2)\n",
    "        print(\"You have been logged out. Thank you!\\n\\n\") \n",
    "        break\n",
    "    elif choice in (1,2,3,4,5):\n",
    "        num_of_tries = 3\n",
    "        while (num_of_tries!=0):\n",
    "            input_pin = int(input(\"Please enter your 4-digit PIN > \"))\n",
    "        \n",
    "            if input_pin == user_pin:\n",
    "                print(\"Account auhtorized!\\n\\n\")\n",
    "                \n",
    "                if choice == 1:\n",
    "                    print(\"Loading Account Balance...\")\n",
    "                    t.sleep(1.5)\n",
    "                    print(\"Your current balance is Rs.\", user_balance, end = \"\\n\\n\\n\")\n",
    "                    break\n",
    "                elif choice == 2:\n",
    "                    print(\"Opening Cash Withdrawal...\")\n",
    "                    t.sleep(1.5)\n",
    "\n",
    "                    while(True):\n",
    "                        withdraw_amt = float(input(\"Enter the amount you wish to withdraw > \"))\n",
    "\n",
    "                        if withdraw_amt>user_balance:\n",
    "                            print(\"Can't withdraw Rs.\", withdraw_amt)\n",
    "                            print(\"Please enter a lower amount!\")\n",
    "                            continue\n",
    "\n",
    "                        else:\n",
    "                            print(\"Withdrawing Rs.\", withdraw_amt)\n",
    "                            confirm = input(\"Confirm? Y/N > \")\n",
    "                            if confirm in ('Y', 'y'):\n",
    "                                user_balance-=withdraw_amt\n",
    "                                print(\"Amount withdrawn - Rs.\", withdraw_amt)\n",
    "                                print(\"Remaining balance - Rs.\", user_balance, end = \"\\n\\n\\n\")\n",
    "                                break\n",
    "\n",
    "                            else:\n",
    "                                print(\"Cancelling transaction...\")\n",
    "                                t.sleep(1)\n",
    "                                print(\"Transaction Cancelled!\\n\\n\")\n",
    "                                break\n",
    "                    \n",
    "                    break\n",
    "\n",
    "                elif choice == 3:\n",
    "                    print(\"Loading Cash Deposit...\")\n",
    "                    t.sleep(1.5)\n",
    "\n",
    "                    deposit_amt = float(input(\"Enter the amount you wish to deposit > \"))\n",
    "                    print(\"Depositing Rs.\", deposit_amt)\n",
    "                    confirm = input(\"Confirm? Y/N > \")\n",
    "                    if confirm in ('Y', 'y'): \n",
    "                        user_balance+=deposit_amt\n",
    "                        print(\"Amount deposited - Rs.\", deposit_amt)\n",
    "                        print(\"Updated balance - Rs.\", user_balance, end = \"\\n\\n\\n\")\n",
    "                    else:\n",
    "                        print(\"Cancelling transaction...\")\n",
    "                        t.sleep(1)\n",
    "                        print(\"Transaction Cancelled!\\n\\n\")\n",
    "                                \n",
    "                    break\n",
    "\n",
    "                    \n",
    "                elif choice == 4:\n",
    "                    print(\"Loading PIN Change...\")\n",
    "                    t.sleep(1.5)\n",
    "\n",
    "                    pin_new = int(input(\"Enter your new PIN > \"))\n",
    "\n",
    "                    print(\"Changing PIN to\", pin_new)\n",
    "                    confirm = input(\"Confirm? Y/N > \")\n",
    "                    if confirm in ('Y', 'y'): \n",
    "                        user_pin = pin_new\n",
    "                        print(\"PIN changed successfully! \\n\\n\")\n",
    "                    else:\n",
    "                        print(\"Cancelling PIN change...\")\n",
    "                        t.sleep(1)\n",
    "                        print(\"Process Cancelled!\\n\\n\")\n",
    "\n",
    "                    break\n",
    "\n",
    "                else:\n",
    "                    print(\"Loading Card Return...\")\n",
    "                    t.sleep(1.5)\n",
    "\n",
    "                    print(\"Returning your ATM Card\")\n",
    "                    confirm = input(\"Confirm? Y/N > \")\n",
    "                    if confirm in ('Y', 'y'): \n",
    "                        print(\"Card returned successfully! \\n\\n\")\n",
    "                    else:\n",
    "                        print(\"Cancelling process...\")\n",
    "                        t.sleep(1)\n",
    "                        print(\"Process Cancelled!\\n\\n\")\n",
    "\n",
    "                    break\n",
    "\n",
    "            else:\n",
    "                num_of_tries-=1 \n",
    "                print(\"PIN incorrect! Number of tries left -\", num_of_tries, end = \"\\n\\n\")   \n",
    "\n",
    "        else:\n",
    "            print(\"Exiting...\")\n",
    "            t.sleep(2)\n",
    "            print(\"You have been logged out. Thank you!\\n\\n\")\n",
    "            break\n",
    "            \n",
    "    else:\n",
    "        print(\"Invalid input!\")\n",
    "        print(\"\\t\\t0. Enter 0 to Logout and Exit!\")\n",
    "        continue"
   ]
  },
  {
   "cell_type": "code",
   "execution_count": 28,
   "id": "1799684b-d53d-4242-b9d5-9291d82a598c",
   "metadata": {},
   "outputs": [],
   "source": [
    "#Q16"
   ]
  },
  {
   "cell_type": "code",
   "execution_count": null,
   "id": "3caed55a-5a4e-4036-88a9-c58b04ed8ab0",
   "metadata": {},
   "outputs": [],
   "source": [
    "s = \"naman\"\n",
    "\n",
    "rev_s = s[::-1]\n",
    "\n",
    "if s == rev_s:\n",
    "    print(\"String is Palindrome\")\n",
    "else:\n",
    "    print(\"String is not a Palindrome\")"
   ]
  },
  {
   "cell_type": "code",
   "execution_count": 29,
   "id": "7926833c-35d4-40bd-9b8e-e3832c21f945",
   "metadata": {},
   "outputs": [],
   "source": [
    "#Q17"
   ]
  },
  {
   "cell_type": "code",
   "execution_count": 30,
   "id": "4667b51b-841d-4361-8987-8b14ab8a9324",
   "metadata": {},
   "outputs": [
    {
     "name": "stdout",
     "output_type": "stream",
     "text": [
      "Average without max and min is 0.8571428571428572\n"
     ]
    }
   ],
   "source": [
    "l = [1,2,3,4,5,6,7]\n",
    "\n",
    "min = 999999\n",
    "max = -999999\n",
    "sum = 0\n",
    "\n",
    "for i in l:\n",
    "    if i < min:\n",
    "        min = i\n",
    "    if i > max:\n",
    "        max = i\n",
    "    sum += i\n",
    "\n",
    "print(\"Average without max and min is\" , (sum - min - max)/len(l)-2)"
   ]
  },
  {
   "cell_type": "code",
   "execution_count": 31,
   "id": "0d2b960f-3d67-406b-adc6-6c00da1f79d2",
   "metadata": {},
   "outputs": [],
   "source": [
    "#Q18"
   ]
  },
  {
   "cell_type": "code",
   "execution_count": null,
   "id": "b976a64b-c036-40e7-bd67-50d3cd7d9013",
   "metadata": {},
   "outputs": [],
   "source": [
    "# Python Program to convert temperature in celsius to fahrenheit\n",
    "\n",
    "# change this value for a different result\n",
    "celsius = 37.5\n",
    "\n",
    "# calculate fahrenheit\n",
    "fahrenheit = (celsius * 1.8) + 32\n",
    "print('%0.1f degree Celsius is equal to %0.1f degree Fahrenheit' %(celsius,fahrenheit))\n"
   ]
  },
  {
   "cell_type": "code",
   "execution_count": 32,
   "id": "d7993540-8b9b-408e-8c2c-6dc7c23a3700",
   "metadata": {},
   "outputs": [],
   "source": [
    "#Q19"
   ]
  },
  {
   "cell_type": "code",
   "execution_count": null,
   "id": "9365ed0e-bfb1-407a-a1ae-6164e7363fe4",
   "metadata": {},
   "outputs": [],
   "source": [
    "# This function adds two numbers\n",
    "def add(x, y):\n",
    "    return x + y\n",
    "\n",
    "# This function subtracts two numbers\n",
    "def subtract(x, y):\n",
    "    return x - y\n",
    "\n",
    "# This function multiplies two numbers\n",
    "def multiply(x, y):\n",
    "    return x * y\n",
    "\n",
    "# This function divides two numbers\n",
    "def divide(x, y):\n",
    "    return x / y\n",
    "\n",
    "\n",
    "print(\"Select operation.\")\n",
    "print(\"1.Add\")\n",
    "print(\"2.Subtract\")\n",
    "print(\"3.Multiply\")\n",
    "print(\"4.Divide\")\n",
    "\n",
    "while True:\n",
    "    # take input from the user\n",
    "    choice = input(\"Enter choice(1/2/3/4): \")\n",
    "\n",
    "    # check if choice is one of the four options\n",
    "    if choice in ('1', '2', '3', '4'):\n",
    "        try:\n",
    "            num1 = float(input(\"Enter first number: \"))\n",
    "            num2 = float(input(\"Enter second number: \"))\n",
    "        except ValueError:\n",
    "            print(\"Invalid input. Please enter a number.\")\n",
    "            continue\n",
    "\n",
    "        if choice == '1':\n",
    "            print(num1, \"+\", num2, \"=\", add(num1, num2))\n",
    "\n",
    "        elif choice == '2':\n",
    "            print(num1, \"-\", num2, \"=\", subtract(num1, num2))\n",
    "\n",
    "        elif choice == '3':\n",
    "            print(num1, \"*\", num2, \"=\", multiply(num1, num2))\n",
    "\n",
    "        elif choice == '4':\n",
    "            print(num1, \"/\", num2, \"=\", divide(num1, num2))\n",
    "        \n",
    "        # check if user wants another calculation\n",
    "        # break the while loop if answer is no\n",
    "        next_calculation = input(\"Let's do next calculation? (yes/no): \")\n",
    "        if next_calculation == \"no\":\n",
    "          break\n",
    "    else:\n",
    "        print(\"Invalid Input\")"
   ]
  },
  {
   "cell_type": "code",
   "execution_count": 33,
   "id": "d5198c7c-36c5-42d5-90b3-f1291d839439",
   "metadata": {},
   "outputs": [],
   "source": [
    "#Q20"
   ]
  },
  {
   "cell_type": "code",
   "execution_count": 37,
   "id": "a9104504-dcc3-453c-8a01-8b7de2ac44ec",
   "metadata": {},
   "outputs": [
    {
     "name": "stdout",
     "output_type": "stream",
     "text": [
      "x^3 -  10 x^2 +  31 x -  30  = 0\n"
     ]
    }
   ],
   "source": [
    "# Python3 program for the approach\n",
    "\n",
    "# Function to find the cubic equation\n",
    "# whose roots are a, b and c\n",
    "def findEquation(a = 5, b = 2, c = 3):\n",
    "\t\n",
    "\t# Find the value of coefficient\n",
    "\tX = (a + b + c);\n",
    "\tY = (a * b) + (b * c) + (c * a);\n",
    "\tZ = (a * b * c);\n",
    "\n",
    "\t# Print the equation as per the\n",
    "\t# above coefficients\n",
    "\tprint(\"x^3 - \" , X ,\n",
    "\t\t\"x^2 + \" ,Y ,\n",
    "\t\t\"x - \" , Z , \" = 0\");\n",
    "\n",
    "a = 5\n",
    "b = 2\n",
    "c = 3\n",
    "findEquation(a, b, c);\n",
    "\n",
    "# This code is contributed by sapnasingh4991\n"
   ]
  },
  {
   "cell_type": "code",
   "execution_count": 38,
   "id": "17ef105c-4984-4a9a-be4d-3cfa6f06197c",
   "metadata": {},
   "outputs": [],
   "source": [
    "#Q21"
   ]
  },
  {
   "cell_type": "code",
   "execution_count": 40,
   "id": "ed2326de-06f2-4ac5-ad8b-541801e0b5f7",
   "metadata": {},
   "outputs": [
    {
     "name": "stdin",
     "output_type": "stream",
     "text": [
      "What's your \\ annual income?\n",
      ">>>  0\n"
     ]
    },
    {
     "name": "stdout",
     "output_type": "stream",
     "text": [
      "Total tax applicable at \\ ₹0.0 is ₹0\n"
     ]
    }
   ],
   "source": [
    "def calculate(amount, percent): \n",
    "\treturn (amount * percent) / 100\n",
    "\n",
    "def calculate_income_tax(total_income: \n",
    "\t\t\t\t\t\tfloat) -> float: \n",
    "\n",
    "\tif total_income <= 250000: \n",
    "\t\treturn 0\n",
    "\telif total_income <= 500000: \n",
    "\t\treturn calculate(total_income -\n",
    "\t\t\t\t\t\t250000, 5) \n",
    "\telif total_income <= 750000: \n",
    "\t\treturn calculate(total_income -\n",
    "\t\t\t\t\t\t500000, 10) + 12500\n",
    "\telif total_income <= 1000000: \n",
    "\t\treturn calculate(total_income -\n",
    "\t\t\t\t\t\t750000, 15) + 37500\n",
    "\telif total_income <= 1250000: \n",
    "\t\treturn calculate(total_income -\n",
    "\t\t\t\t\t\t1000000, 20) + 75000\n",
    "\telif total_income <= 1500000: \n",
    "\t\treturn calculate(total_income -\n",
    "\t\t\t\t\t\t1250000, 25) + 125000\n",
    "\telse: \n",
    "\t\treturn calculate(total_income -\n",
    "\t\t\t\t\t\t1500000, 30) + 187500\n",
    "\n",
    "\n",
    "total_income = float(input(\"What's your \\ annual income?\\n>>> \")) \n",
    "tax = calculate_income_tax(total_income)\n",
    "print(f\"Total tax applicable at \\ ₹{total_income} is ₹{tax}\")\n"
   ]
  },
  {
   "cell_type": "code",
   "execution_count": 41,
   "id": "8a4c21ad-7ef6-44c5-ba24-8a8275406f3b",
   "metadata": {},
   "outputs": [],
   "source": [
    "#Q22"
   ]
  },
  {
   "cell_type": "code",
   "execution_count": null,
   "id": "2ee7dcdb-0fa6-4ee7-85bb-dbfb6becad57",
   "metadata": {},
   "outputs": [],
   "source": [
    "# import random module\n",
    "import random\n",
    "# print multiline instruction\n",
    "# performstring concatenation of string\n",
    "print('Winning rules of the game ROCK PAPER SCISSORS are :\\n'\n",
    "\t+ \"Rock vs Paper -> Paper wins \\n\"\n",
    "\t+ \"Rock vs Scissors -> Rock wins \\n\"\n",
    "\t+ \"Paper vs Scissors -> Scissor wins \\n\")\n",
    "\n",
    "while True:\n",
    "\t\n",
    "\tprint(\"Enter your choice \\n 1 - Rock \\n 2 - Paper \\n 3 - Scissors \\n\")\n",
    "\t\n",
    "\t# take the input from user\n",
    "\t\n",
    "\tchoice=int(input(\"Enter your choice :\"))\n",
    "\t\n",
    "\t# OR is the short-circuit operator\n",
    "\t# if any one of the condition is true\n",
    "\t# then it return True value\n",
    "\t\n",
    "\t# looping until user enter invalid input\n",
    "\twhile choice > 3 or choice <1:\n",
    "\tchoice=int(input('Enter a valid choice please '))\n",
    "\t\t\n",
    "\t\t# initialize value of choice_name variable\n",
    "\t# corresponding to the choice value\n",
    "\tif choice == 1:\n",
    "\t\tchoice_name= 'Rock'\n",
    "\telif choice == 2:\n",
    "\t\tchoice_name= 'Paper'\n",
    "\telse:\n",
    "\t\tchoice_name= 'Scissors'\n",
    "\t\t\n",
    "\t\t# print user choice\n",
    "\tprint('User choice is \\n',choice_name)\n",
    "\tprint('Now its Computers Turn....')\n",
    "\t\n",
    "\t# Computer chooses randomly any number\n",
    "\t# among 1 , 2 and 3. Using randint method\n",
    "\t# of random module\n",
    "\tcomp_choice = random.randint(1,3)\n",
    "\t\n",
    "\t# looping until comp_choice value\n",
    "\t# is equal to the choice value\n",
    "\twhile comp_choice == choice:\n",
    "\t\tcomp_choice = random.randint(1,3)\n",
    "\t\t\n",
    "\t# initialize value of comp_choice_name\n",
    "\t# variable corresponding to the choice value\n",
    "\tif comp_choice == 1:\n",
    "\t\tcomp_choice_name = 'rocK'\n",
    "\telif comp_choice == 2:\n",
    "\t\tcomp_choice_name = 'papeR'\n",
    "\telse:\n",
    "\t\tcomp_choice_name = 'scissoR'\n",
    "\tprint(\"Computer choice is \\n\", comp_choice_name)\n",
    "\tprint(choice_name,'Vs',comp_choice_name)\n",
    "\t# we need to check of a draw\n",
    "\tif choice == comp_choice:\n",
    "\t\tprint('Its a Draw',end=\"\")\n",
    "\t\tresult=\"DRAW\"\n",
    "\t# condition for winning\t \n",
    "\tif (choice==1 and comp_choice==2):\n",
    "\t\tprint('paper wins =>',end=\"\")\n",
    "\t\tresult='papeR'\n",
    "\telif (choice==2 and comp_choice==1):\n",
    "\t\tprint('paper wins =>',end=\"\")\n",
    "\t\tresult='Paper'\n",
    "\t\t\n",
    "\t\n",
    "\tif (choice==1 and comp_choice==3):\n",
    "\t\tprint('Rock wins =>\\n',end= \"\")\n",
    "\t\tresult='Rock'\n",
    "\telif (choice==3 and comp_choice==1):\n",
    "\t\tprint('Rock wins =>\\n',end= \"\")\n",
    "\t\tresult='rocK'\n",
    "\t\t\n",
    "\tif (choice==2 and comp_choice==3):\n",
    "\t\tprint('Scissors wins =>',end=\"\")\n",
    "\t\tresult='scissoR'\n",
    "\telif (choice==3 and comp_choice==2):\n",
    "\t\tprint('Scissors wins =>',end=\"\")\n",
    "\t\tresult='Rock'\n",
    "\t# Printing either user or computer wins or draw\n",
    "\tif result == 'DRAW':\n",
    "\t\tprint(\"<== Its a tie ==>\")\n",
    "\tif result == choice_name:\n",
    "\t\tprint(\"<== User wins ==>\")\n",
    "\telse:\n",
    "\t\tprint(\"<== Computer wins ==>\")\n",
    "\tprint(\"Do you want to play again? (Y/N)\")\n",
    "\t# if user input n or N then condition is True\n",
    "\tans = input().lower\n",
    "\tif ans =='n':\n",
    "\t\tbreak\n",
    "# after coming out of the while loop\n",
    "# we print thanks for playing\n",
    "print(\"thanks for playing\")\n"
   ]
  },
  {
   "cell_type": "code",
   "execution_count": 42,
   "id": "d16fe0a8-3b25-4b94-9255-82a7d3e1d3e6",
   "metadata": {},
   "outputs": [],
   "source": [
    "#Q23"
   ]
  },
  {
   "cell_type": "code",
   "execution_count": null,
   "id": "6ee54ce5-8c4f-4581-826d-924928f54116",
   "metadata": {},
   "outputs": [],
   "source": [
    "import random\n",
    "import array\n",
    "\n",
    "# maximum length of password needed\n",
    "# this can be changed to suit your password length\n",
    "MAX_LEN = 12\n",
    "\n",
    "# declare arrays of the character that we need in out password\n",
    "# Represented as chars to enable easy string concatenation\n",
    "DIGITS = ['0', '1', '2', '3', '4', '5', '6', '7', '8', '9'] \n",
    "LOCASE_CHARACTERS = ['a', 'b', 'c', 'd', 'e', 'f', 'g', 'h', \n",
    "\t\t\t\t\t'i', 'j', 'k', 'm', 'n', 'o', 'p', 'q',\n",
    "\t\t\t\t\t'r', 's', 't', 'u', 'v', 'w', 'x', 'y',\n",
    "\t\t\t\t\t'z']\n",
    "\n",
    "UPCASE_CHARACTERS = ['A', 'B', 'C', 'D', 'E', 'F', 'G', 'H', \n",
    "\t\t\t\t\t'I', 'J', 'K', 'M', 'N', 'O', 'P', 'Q',\n",
    "\t\t\t\t\t'R', 'S', 'T', 'U', 'V', 'W', 'X', 'Y',\n",
    "\t\t\t\t\t'Z']\n",
    "\n",
    "SYMBOLS = ['@', '#', '$', '%', '=', ':', '?', '.', '/', '|', '~', '>', \n",
    "\t\t'*', '(', ')', '<']\n",
    "\n",
    "# combines all the character arrays above to form one array\n",
    "COMBINED_LIST = DIGITS + UPCASE_CHARACTERS + LOCASE_CHARACTERS + SYMBOLS\n",
    "\n",
    "# randomly select at least one character from each character set above\n",
    "rand_digit = random.choice(DIGITS)\n",
    "rand_upper = random.choice(UPCASE_CHARACTERS)\n",
    "rand_lower = random.choice(LOCASE_CHARACTERS)\n",
    "rand_symbol = random.choice(SYMBOLS)\n",
    "\n",
    "# combine the character randomly selected above\n",
    "# at this stage, the password contains only 4 characters but \n",
    "# we want a 12-character password\n",
    "temp_pass = rand_digit + rand_upper + rand_lower + rand_symbol\n",
    "\n",
    "\n",
    "# now that we are sure we have at least one character from each\n",
    "# set of characters, we fill the rest of\n",
    "# the password length by selecting randomly from the combined \n",
    "# list of character above.\n",
    "for x in range(MAX_LEN - 4):\n",
    "\ttemp_pass = temp_pass + random.choice(COMBINED_LIST)\n",
    "\n",
    "\t# convert temporary password into array and shuffle to \n",
    "\t# prevent it from having a consistent pattern\n",
    "\t# where the beginning of the password is predictable\n",
    "\ttemp_pass_list = array.array('u', temp_pass)\n",
    "\trandom.shuffle(temp_pass_list)\n",
    "\n",
    "# traverse the temporary password array and append the chars\n",
    "# to form the password\n",
    "password = \"\"\n",
    "for x in temp_pass_list:\n",
    "\t\tpassword = password + x\n",
    "\t\t\n",
    "# print out password\n",
    "print(password)\n"
   ]
  },
  {
   "cell_type": "code",
   "execution_count": 43,
   "id": "4cf326ad-ccc1-4f3a-b17f-051ab8c149bb",
   "metadata": {},
   "outputs": [],
   "source": [
    "#Q24"
   ]
  },
  {
   "cell_type": "code",
   "execution_count": null,
   "id": "9ec2a31b-8bac-4a07-8dd1-c571e63922b8",
   "metadata": {},
   "outputs": [],
   "source": []
  },
  {
   "cell_type": "code",
   "execution_count": 44,
   "id": "cd9cc20d-4ae8-4704-b23b-ff0a9001d147",
   "metadata": {},
   "outputs": [],
   "source": [
    "#Q25"
   ]
  },
  {
   "cell_type": "code",
   "execution_count": null,
   "id": "3a46afcf-9065-426a-b905-17f006d4c725",
   "metadata": {},
   "outputs": [],
   "source": [
    "# importing library sympy \n",
    "from sympy import symbols, Eq, solve \n",
    "\n",
    "# defining symbols used in equations \n",
    "# or unknown variables \n",
    "x, y = symbols('x,y') \n",
    "\n",
    "# defining equations \n",
    "eq1 = Eq((x+y), 1) \n",
    "print(\"Equation 1:\") \n",
    "print(eq1) \n",
    "eq2 = Eq((x-y), 1) \n",
    "print(\"Equation 2\") \n",
    "print(eq2) \n",
    "\n",
    "# solving the equation \n",
    "print(\"Values of 2 unknown variable are as follows:\") \n",
    "\n",
    "print(solve((eq1, eq2), (x, y))) \n"
   ]
  },
  {
   "cell_type": "code",
   "execution_count": 45,
   "id": "c9239e48-252b-4ebf-a5a4-1d83051926cc",
   "metadata": {},
   "outputs": [],
   "source": [
    "#Q26"
   ]
  },
  {
   "cell_type": "code",
   "execution_count": null,
   "id": "a4377b19-8a6c-4ca9-a75b-00243f0fdf00",
   "metadata": {},
   "outputs": [],
   "source": [
    "print(\"Wellcome to quiz game !!\")\n",
    "print('NOTE: if your spelling is incorrect then it is considered as wrong answer')\n",
    "score = 0\n",
    "question_no = 0\n",
    "playing = input('Do you want to play ? ').lower()\n",
    "if playing == 'yes':\n",
    "    question_no += 1\n",
    "    ques = input(f'\\n{question_no}. what does CPU stand for? ').lower()\n",
    "    if ques == 'central processing unit':\n",
    "        score +=1\n",
    "        print('correct! you got 1 point')\n",
    "        \n",
    "    else:\n",
    "        print('Incorrect!')\n",
    "        print(f'current answer is --> central processing unit')\n",
    "\n",
    "# ------1\n",
    "    question_no += 1\n",
    "    ques = input(f'\\n{question_no}. what does GPU stand for? ').lower()\n",
    "    \n",
    "    if ques == 'graphics processing unit':\n",
    "        score +=1\n",
    "        print('correct! you got 1 point')\n",
    "        \n",
    "    else:\n",
    "        print('Incorrect!')\n",
    "        print(f'current answer is --> graphics processing unit')\n",
    "\n",
    "# -----2\n",
    "    question_no += 1\n",
    "    ques = input(f'\\n{question_no}. what does RAM stand for? ').lower()\n",
    "    \n",
    "    if ques == 'random access memory':\n",
    "        score +=1\n",
    "        print('correct! you got 1 point')\n",
    "        \n",
    "    else:\n",
    "        print('Incorrect!')\n",
    "        print(f'current answer is --> random access memory')\n",
    "\n",
    "# -----3\n",
    "    question_no += 1\n",
    "    ques = input(f'\\n{question_no}. what does PSU stand for? ').lower()\n",
    "    \n",
    "    if ques == 'power supply unit':\n",
    "        score +=1\n",
    "        print('correct! you got 1 point')\n",
    "        \n",
    "    else:\n",
    "        print('Incorrect!')\n",
    "        print(f'current answer is --> power supply unit')\n",
    "\n",
    "\n",
    "# -----4\n",
    "    question_no += 1\n",
    "    ques = input(f'\\n{question_no}. what does ROM stand for? ').lower()\n",
    "    \n",
    "    if ques == 'read only memory':\n",
    "        score +=1\n",
    "        print('correct! you got 1 point')\n",
    "        \n",
    "    else:\n",
    "        print('Incorrect!')\n",
    "        print(f'current answer is --> read only memory')\n",
    "\n",
    "\n",
    "# ------5 \n",
    "\n",
    "else:\n",
    "    print('thankyou you are out of a game.')\n",
    "    quit()\n",
    "\n",
    "print(f'\\nnumber of question is {question_no}')\n",
    "print(f'your score is {score}')\n",
    "try:\n",
    "    percentage = (score *100)/question_no\n",
    "except ZeroDivisionError:\n",
    "    print('0% quetions are correct')\n",
    "\n",
    "print(f'{percentage}% questions are correct.')"
   ]
  },
  {
   "cell_type": "code",
   "execution_count": 46,
   "id": "780015cc-b72b-4d0b-bbc5-7d1deff8fc8a",
   "metadata": {},
   "outputs": [],
   "source": [
    "#Q27"
   ]
  },
  {
   "cell_type": "code",
   "execution_count": null,
   "id": "76f78cae-96c5-4003-9ecb-eefcec57425c",
   "metadata": {},
   "outputs": [],
   "source": [
    "# Program to check if a number is prime or not\n",
    "\n",
    "year = 2029\n",
    "\n",
    "# To take input from the user\n",
    "#num = int(input(\"Enter a number: \"))\n",
    "\n",
    "# define a flag variable\n",
    "flag = False\n",
    "\n",
    "if num == 1:\n",
    "    print(num, \"is not a prime number\")\n",
    "elif num > 1:\n",
    "    # check for factors\n",
    "    for i in range(2, num):\n",
    "        if (num % i) == 0:\n",
    "            # if factor is found, set flag to True\n",
    "            flag = True\n",
    "            # break out of loop\n",
    "            break\n",
    "\n",
    "    # check if flag is True\n",
    "    if flag:\n",
    "        print(\"Year\",num, \"is not a prime number\")\n",
    "    else:\n",
    "        print(\"Year\", num, \"is a prime number\")"
   ]
  },
  {
   "cell_type": "code",
   "execution_count": 47,
   "id": "08a1219b-9b36-49d0-8648-4943c9772bb7",
   "metadata": {},
   "outputs": [],
   "source": [
    "#Q28"
   ]
  },
  {
   "cell_type": "code",
   "execution_count": 48,
   "id": "fa4ac879-4b67-4eb5-820f-599e351af805",
   "metadata": {},
   "outputs": [
    {
     "name": "stdout",
     "output_type": "stream",
     "text": [
      " 10 < 20 < 30\n"
     ]
    }
   ],
   "source": [
    "a = 10\n",
    "b = 20\n",
    "c = 30\n",
    "\n",
    "if a > b and a > c:\n",
    "    if b > c:\n",
    "        print(f\" {c} < {b} < {a}\")\n",
    "    else:\n",
    "        print(f\" {b} < {c} < {a}\")\n",
    "elif b > a and b > c:\n",
    "    if a > c:\n",
    "        print(f\" {c} < {a} < {b}\")\n",
    "    else:\n",
    "        print(f\" {a} < {c} < {b}\")\n",
    "else:\n",
    "    if b > a:\n",
    "        print(f\" {a} < {b} < {c}\")\n",
    "    else:\n",
    "        print(f\" {b} < {a} < {c}\")"
   ]
  },
  {
   "cell_type": "code",
   "execution_count": 49,
   "id": "89407ec7-dea9-455f-a544-69ad315f2b68",
   "metadata": {},
   "outputs": [],
   "source": [
    "#Q29"
   ]
  },
  {
   "cell_type": "code",
   "execution_count": null,
   "id": "c3fad282-b5c4-4a35-b7ec-a85dae8f228a",
   "metadata": {},
   "outputs": [],
   "source": [
    "# Solve the quadratic equation ax**2 + bx + c = 0\n",
    "\n",
    "# import complex math module\n",
    "import cmath\n",
    "\n",
    "a = 1\n",
    "b = 5\n",
    "c = 6\n",
    "\n",
    "# calculate the discriminant\n",
    "d = (b**2) - (4*a*c)\n",
    "\n",
    "# find two solutions\n",
    "sol1 = (-b-cmath.sqrt(d))/(2*a)\n",
    "sol2 = (-b+cmath.sqrt(d))/(2*a)\n",
    "\n",
    "print('The solution are {0} and {1}'.format(sol1,sol2))\n"
   ]
  },
  {
   "cell_type": "code",
   "execution_count": 50,
   "id": "ccce36d3-1d51-43b0-a8dc-62b6ef34f973",
   "metadata": {},
   "outputs": [],
   "source": [
    "#Q30"
   ]
  },
  {
   "cell_type": "code",
   "execution_count": null,
   "id": "6e16ec4d-a0b2-4a69-adcd-566bef85d427",
   "metadata": {},
   "outputs": [],
   "source": [
    "#Python program to illustrate\n",
    "\n",
    "# how to calculate BMI\n",
    "\n",
    "def BMI(height, weight):\n",
    "\n",
    "            bmi = weight/(height**2)\n",
    "\n",
    "            return bmi\n",
    "\n",
    "\n",
    "\n",
    "# Driver code\n",
    "\n",
    "height = 1.79832\n",
    "\n",
    "weight = 70\n",
    "\n",
    "\n",
    "\n",
    "# calling the BMI function\n",
    "\n",
    "bmi = BMI(height, weight)\n",
    "\n",
    "print(\"The BMI is\", format(bmi), \"so \", end='')\n",
    "\n",
    "\n",
    "\n",
    "# Conditions to find out BMI category\n",
    "\n",
    "if (bmi < 18.5):\n",
    "\n",
    "            print(\"underweight\")\n",
    "\n",
    "\n",
    "\n",
    "elif ( bmi >= 18.5 and bmi < 24.9):\n",
    "\n",
    "            print(\"Healthy\")\n",
    "\n",
    "\n",
    "\n",
    "elif ( bmi >= 24.9 and bmi < 30):\n",
    "\n",
    "            print(\"overweight\")\n",
    "\n",
    "\n",
    "\n",
    "elif ( bmi >=30):\n",
    "\n",
    "            print(\"Suffering from Obesity\")"
   ]
  }
 ],
 "metadata": {
  "kernelspec": {
   "display_name": "Python 3 (ipykernel)",
   "language": "python",
   "name": "python3"
  },
  "language_info": {
   "codemirror_mode": {
    "name": "ipython",
    "version": 3
   },
   "file_extension": ".py",
   "mimetype": "text/x-python",
   "name": "python",
   "nbconvert_exporter": "python",
   "pygments_lexer": "ipython3",
   "version": "3.11.4"
  }
 },
 "nbformat": 4,
 "nbformat_minor": 5
}
